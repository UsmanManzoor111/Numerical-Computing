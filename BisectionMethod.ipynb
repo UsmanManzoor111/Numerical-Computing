{
 "cells": [
  {
   "cell_type": "code",
   "execution_count": 1,
   "id": "360acd92",
   "metadata": {},
   "outputs": [],
   "source": [
    "def bisection(a, b):\n",
    "    p =(a + b)/2\n",
    "    fa = f(a)\n",
    "    fb = f(p)\n",
    "    fp = f(b)\n",
    "    print(a, \"\\t\", p, \"\\t\", b)\n",
    "    print(fa, \"\\t\", fb, \"\\t\", fp)\n",
    "    return p"
   ]
  },
  {
   "cell_type": "code",
   "execution_count": 2,
   "id": "91414ae4",
   "metadata": {},
   "outputs": [],
   "source": [
    "def f(x):\n",
    "    return x**2 - 36"
   ]
  },
  {
   "cell_type": "code",
   "execution_count": 3,
   "id": "27f8ba8c",
   "metadata": {},
   "outputs": [],
   "source": [
    "a = 1\n",
    "b = 10"
   ]
  },
  {
   "cell_type": "code",
   "execution_count": 4,
   "id": "67a9d510",
   "metadata": {},
   "outputs": [
    {
     "data": {
      "text/plain": [
       "(-35, 64)"
      ]
     },
     "execution_count": 4,
     "metadata": {},
     "output_type": "execute_result"
    }
   ],
   "source": [
    "fa = f(a)\n",
    "fb = f(b)\n",
    "fa , fb"
   ]
  },
  {
   "cell_type": "code",
   "execution_count": 5,
   "id": "bf0efd40",
   "metadata": {},
   "outputs": [
    {
     "name": "stdout",
     "output_type": "stream",
     "text": [
      "1 \t 5.5 \t 10\n",
      "-35 \t -5.75 \t 64\n"
     ]
    }
   ],
   "source": [
    "a, b = a, b\n",
    "p = bisection(a,b)"
   ]
  },
  {
   "cell_type": "code",
   "execution_count": 6,
   "id": "18c6c6df",
   "metadata": {},
   "outputs": [
    {
     "name": "stdout",
     "output_type": "stream",
     "text": [
      "5.5 \t 7.75 \t 10\n",
      "-5.75 \t 24.0625 \t 64\n"
     ]
    }
   ],
   "source": [
    "a, b = p, b\n",
    "p = bisection(a,b)"
   ]
  },
  {
   "cell_type": "code",
   "execution_count": 17,
   "id": "4a5de815",
   "metadata": {},
   "outputs": [
    {
     "name": "stdout",
     "output_type": "stream",
     "text": [
      "5.5 \t 6.625 \t 7.75\n",
      "-5.75 \t 7.890625 \t 24.0625\n"
     ]
    }
   ],
   "source": [
    "a, b = a, p\n",
    "p = bisection(a,b)"
   ]
  },
  {
   "cell_type": "code",
   "execution_count": 18,
   "id": "61a398fc",
   "metadata": {},
   "outputs": [
    {
     "name": "stdout",
     "output_type": "stream",
     "text": [
      "5.5 \t 6.0625 \t 6.625\n",
      "-5.75 \t 0.75390625 \t 7.890625\n"
     ]
    }
   ],
   "source": [
    "a, b = a, p\n",
    "p = bisection(a,b)"
   ]
  },
  {
   "cell_type": "code",
   "execution_count": 19,
   "id": "2c05bf54",
   "metadata": {},
   "outputs": [
    {
     "name": "stdout",
     "output_type": "stream",
     "text": [
      "5.5 \t 5.78125 \t 6.0625\n",
      "-5.75 \t -2.5771484375 \t 0.75390625\n"
     ]
    }
   ],
   "source": [
    "a, b = a, p\n",
    "p = bisection(a,b)"
   ]
  },
  {
   "cell_type": "code",
   "execution_count": 20,
   "id": "2f22e69b",
   "metadata": {},
   "outputs": [
    {
     "name": "stdout",
     "output_type": "stream",
     "text": [
      "5.78125 \t 5.921875 \t 6.0625\n",
      "-2.5771484375 \t -0.931396484375 \t 0.75390625\n"
     ]
    }
   ],
   "source": [
    "a, b = p, b\n",
    "p = bisection(a,b)"
   ]
  },
  {
   "cell_type": "code",
   "execution_count": 21,
   "id": "6421a628",
   "metadata": {},
   "outputs": [
    {
     "name": "stdout",
     "output_type": "stream",
     "text": [
      "5.921875 \t 5.9921875 \t 6.0625\n",
      "-0.931396484375 \t -0.09368896484375 \t 0.75390625\n"
     ]
    }
   ],
   "source": [
    "a, b = p, b\n",
    "p = bisection(a,b)"
   ]
  },
  {
   "cell_type": "code",
   "execution_count": 22,
   "id": "55e79b1d",
   "metadata": {},
   "outputs": [
    {
     "name": "stdout",
     "output_type": "stream",
     "text": [
      "5.9921875 \t 6.02734375 \t 6.0625\n",
      "-0.09368896484375 \t 0.3288726806640625 \t 0.75390625\n"
     ]
    }
   ],
   "source": [
    "a, b = p, b\n",
    "p = bisection(a,b)"
   ]
  },
  {
   "cell_type": "code",
   "execution_count": 23,
   "id": "12674eb7",
   "metadata": {},
   "outputs": [
    {
     "name": "stdout",
     "output_type": "stream",
     "text": [
      "5.9921875 \t 6.009765625 \t 6.02734375\n",
      "-0.09368896484375 \t 0.11728286743164062 \t 0.3288726806640625\n"
     ]
    }
   ],
   "source": [
    "a, b = a, p\n",
    "p = bisection(a,b)"
   ]
  },
  {
   "cell_type": "code",
   "execution_count": 24,
   "id": "da320f2f",
   "metadata": {},
   "outputs": [
    {
     "name": "stdout",
     "output_type": "stream",
     "text": [
      "5.9921875 \t 6.0009765625 \t 6.009765625\n",
      "-0.09368896484375 \t 0.011719703674316406 \t 0.11728286743164062\n"
     ]
    }
   ],
   "source": [
    "a, b = a, p\n",
    "p = bisection(a,b)"
   ]
  },
  {
   "cell_type": "code",
   "execution_count": 25,
   "id": "b9612243",
   "metadata": {},
   "outputs": [
    {
     "name": "stdout",
     "output_type": "stream",
     "text": [
      "5.9921875 \t 5.99658203125 \t 6.0009765625\n",
      "-0.09368896484375 \t -0.04100394248962402 \t 0.011719703674316406\n"
     ]
    }
   ],
   "source": [
    "a, b = a, p\n",
    "p = bisection(a,b)"
   ]
  },
  {
   "cell_type": "code",
   "execution_count": null,
   "id": "e8d075cf",
   "metadata": {},
   "outputs": [],
   "source": []
  }
 ],
 "metadata": {
  "kernelspec": {
   "display_name": "Python 3",
   "language": "python",
   "name": "python3"
  },
  "language_info": {
   "codemirror_mode": {
    "name": "ipython",
    "version": 3
   },
   "file_extension": ".py",
   "mimetype": "text/x-python",
   "name": "python",
   "nbconvert_exporter": "python",
   "pygments_lexer": "ipython3",
   "version": "3.8.8"
  }
 },
 "nbformat": 4,
 "nbformat_minor": 5
}
