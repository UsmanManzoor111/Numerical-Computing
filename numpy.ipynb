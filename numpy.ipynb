{
 "cells": [
  {
   "cell_type": "code",
   "execution_count": 11,
   "id": "ecd6582f",
   "metadata": {},
   "outputs": [],
   "source": [
    "import numpy as np"
   ]
  },
  {
   "cell_type": "code",
   "execution_count": 12,
   "id": "3bbe4d72",
   "metadata": {},
   "outputs": [
    {
     "data": {
      "text/plain": [
       "array([ 3, 15, 18])"
      ]
     },
     "execution_count": 12,
     "metadata": {},
     "output_type": "execute_result"
    }
   ],
   "source": [
    "x = np.array([1, 5, 6])\n",
    "x*3"
   ]
  },
  {
   "cell_type": "code",
   "execution_count": 13,
   "id": "dde85e20",
   "metadata": {},
   "outputs": [
    {
     "data": {
      "text/plain": [
       "array([0, 1, 2, 3, 4, 5])"
      ]
     },
     "execution_count": 13,
     "metadata": {},
     "output_type": "execute_result"
    }
   ],
   "source": [
    "x = np.arange(6)\n",
    "x"
   ]
  },
  {
   "cell_type": "code",
   "execution_count": 25,
   "id": "a6e717de",
   "metadata": {},
   "outputs": [
    {
     "name": "stdout",
     "output_type": "stream",
     "text": [
      "x =  [0 1 2 3]\n",
      "xx =  [[0]\n",
      " [1]\n",
      " [2]\n",
      " [3]]\n",
      "y  =  [1. 1. 1. 1. 1.]\n",
      "Shapes of \n",
      "(4,)\n",
      "(4, 1)\n",
      "(5,)\n",
      "[[1. 1. 1. 1.]\n",
      " [1. 1. 1. 1.]\n",
      " [1. 1. 1. 1.]]\n",
      "(3, 4)\n"
     ]
    }
   ],
   "source": [
    "x = np.arange(4)\n",
    "xx = x.reshape(4, 1)\n",
    "y = np.ones(5)\n",
    "z = np.ones((3, 4))\n",
    "\n",
    "print(\"x = \", x)\n",
    "print(\"xx = \", xx)\n",
    "print(\"y  = \", y)\n",
    "\n",
    "print(\"Shapes of \")\n",
    "print(x.shape)\n",
    "print(xx.shape)\n",
    "print(y.shape)\n",
    "print(z)\n",
    "print(z.shape)"
   ]
  },
  {
   "cell_type": "code",
   "execution_count": 29,
   "id": "3e0cb240",
   "metadata": {},
   "outputs": [
    {
     "name": "stdout",
     "output_type": "stream",
     "text": [
      "[1. 1. 1. 1. 1.]\n",
      "[[0]\n",
      " [1]\n",
      " [2]\n",
      " [3]]\n"
     ]
    }
   ],
   "source": [
    "print(y)\n",
    "print(xx)\n"
   ]
  },
  {
   "cell_type": "code",
   "execution_count": 30,
   "id": "7ef550f9",
   "metadata": {},
   "outputs": [
    {
     "data": {
      "text/plain": [
       "array([[1., 1., 1., 1., 1.],\n",
       "       [2., 2., 2., 2., 2.],\n",
       "       [3., 3., 3., 3., 3.],\n",
       "       [4., 4., 4., 4., 4.]])"
      ]
     },
     "execution_count": 30,
     "metadata": {},
     "output_type": "execute_result"
    }
   ],
   "source": [
    "xx + y"
   ]
  },
  {
   "cell_type": "code",
   "execution_count": 32,
   "id": "61bbf555",
   "metadata": {},
   "outputs": [
    {
     "data": {
      "text/plain": [
       "array([[1, 6, 8],\n",
       "       [1, 6, 7]])"
      ]
     },
     "execution_count": 32,
     "metadata": {},
     "output_type": "execute_result"
    }
   ],
   "source": [
    "x = np.array([[1, 6, 8],[1, 6, 7]])\n",
    "x"
   ]
  },
  {
   "cell_type": "code",
   "execution_count": 35,
   "id": "4b4fa3d4",
   "metadata": {},
   "outputs": [
    {
     "name": "stdout",
     "output_type": "stream",
     "text": [
      "[8 7]\n"
     ]
    }
   ],
   "source": [
    "x_norm = np.amax(x, axis=1)\n",
    "print(x_norm)"
   ]
  },
  {
   "cell_type": "code",
   "execution_count": 55,
   "id": "e1c8ff8b",
   "metadata": {},
   "outputs": [
    {
     "data": {
      "text/plain": [
       "array([[[0.1, 0.1, 0.9],\n",
       "        [0.2, 0.1, 0.9],\n",
       "        [1. , 0.1, 0.9]],\n",
       "\n",
       "       [[0.1, 0.7, 0.9],\n",
       "        [0.2, 0.2, 0.9],\n",
       "        [0.3, 0.2, 0.9]],\n",
       "\n",
       "       [[0.1, 0.9, 0.9],\n",
       "        [0.2, 0.3, 0.9],\n",
       "        [0.3, 0.3, 0.9]],\n",
       "\n",
       "       [[0.1, 0.9, 0.9],\n",
       "        [0.2, 0.4, 0.9],\n",
       "        [0.3, 0.4, 0.9]]])"
      ]
     },
     "execution_count": 55,
     "metadata": {},
     "output_type": "execute_result"
    }
   ],
   "source": [
    "#Reshaping\n",
    "i = np.array([\n",
    "    [[0.1, 0.1, 0.9], [0.2, 0.1, 0.9], [1, 0.1, 0.9]],\n",
    "    [[0.1, 0.7, 0.9], [0.2, 0.2, 0.9], [0.3, 0.2, 0.9]],\n",
    "    [[0.1, 0.9, 0.9], [0.2, 0.3, 0.9], [0.3, 0.3, 0.9]],\n",
    "    [[0.1, 0.9, 0.9], [0.2, 0.4, 0.9], [0.3, 0.4, 0.9]]\n",
    "    ])\n",
    "i"
   ]
  },
  {
   "cell_type": "code",
   "execution_count": 56,
   "id": "29b23257",
   "metadata": {},
   "outputs": [
    {
     "data": {
      "text/plain": [
       "(4, 3, 3)"
      ]
     },
     "execution_count": 56,
     "metadata": {},
     "output_type": "execute_result"
    }
   ],
   "source": [
    "i.shape"
   ]
  },
  {
   "cell_type": "code",
   "execution_count": 57,
   "id": "b7a5c308",
   "metadata": {},
   "outputs": [
    {
     "name": "stdout",
     "output_type": "stream",
     "text": [
      "Note: you may need to restart the kernel to use updated packages.\n"
     ]
    },
    {
     "name": "stderr",
     "output_type": "stream",
     "text": [
      "ERROR: Could not find a version that satisfies the requirement matplotlib.pylot\n",
      "ERROR: No matching distribution found for matplotlib.pylot\n"
     ]
    }
   ],
   "source": [
    "pip install matplotlib.pylot"
   ]
  },
  {
   "cell_type": "code",
   "execution_count": 58,
   "id": "5c43ff6c",
   "metadata": {},
   "outputs": [],
   "source": [
    "%matplotlib inline\n",
    "import matplotlib.pyplot as plt\n",
    "import numpy as np"
   ]
  },
  {
   "cell_type": "code",
   "execution_count": 59,
   "id": "96c37609",
   "metadata": {},
   "outputs": [
    {
     "data": {
      "image/png": "[encoded data removed]",
      "text/plain": [
       "<Figure size 432x288 with 1 Axes>"
      ]
     },
     "metadata": {
      "needs_background": "light"
     },
     "output_type": "display_data"
    }
   ],
   "source": [
    "_ = plt.imshow(i)"
   ]
  },
  {
   "cell_type": "code",
   "execution_count": 64,
   "id": "2042b757",
   "metadata": {},
   "outputs": [
    {
     "data": {
      "text/plain": [
       "array([0.1, 0.1, 0.9, 0.2, 0.1, 0.9, 1. , 0.1, 0.9, 0.1, 0.7, 0.9, 0.2,\n",
       "       0.2, 0.9, 0.3, 0.2, 0.9, 0.1, 0.9, 0.9, 0.2, 0.3, 0.9, 0.3, 0.3,\n",
       "       0.9, 0.1, 0.9, 0.9, 0.2, 0.4, 0.9, 0.3, 0.4, 0.9])"
      ]
     },
     "execution_count": 64,
     "metadata": {},
     "output_type": "execute_result"
    }
   ],
   "source": [
    "i.reshape(36)"
   ]
  },
  {
   "cell_type": "code",
   "execution_count": 65,
   "id": "29514e3a",
   "metadata": {},
   "outputs": [
    {
     "data": {
      "text/plain": [
       "(36,)"
      ]
     },
     "execution_count": 65,
     "metadata": {},
     "output_type": "execute_result"
    }
   ],
   "source": [
    "i.reshape(36).shape"
   ]
  },
  {
   "cell_type": "code",
   "execution_count": 66,
   "id": "50c40052",
   "metadata": {},
   "outputs": [
    {
     "name": "stdout",
     "output_type": "stream",
     "text": [
      "(4, 3, 3)\n"
     ]
    },
    {
     "data": {
      "text/plain": [
       "array([0.1, 0.1, 0.9, 0.2, 0.1, 0.9, 1. , 0.1, 0.9, 0.1, 0.7, 0.9, 0.2,\n",
       "       0.2, 0.9, 0.3, 0.2, 0.9, 0.1, 0.9, 0.9, 0.2, 0.3, 0.9, 0.3, 0.3,\n",
       "       0.9, 0.1, 0.9, 0.9, 0.2, 0.4, 0.9, 0.3, 0.4, 0.9])"
      ]
     },
     "execution_count": 66,
     "metadata": {},
     "output_type": "execute_result"
    }
   ],
   "source": [
    "print(i.shape)\n",
    "i_sh = i.shape\n",
    "i.reshape(i_sh[0] * i_sh[1] * i_sh[2])"
   ]
  },
  {
   "cell_type": "code",
   "execution_count": 69,
   "id": "c08cbf47",
   "metadata": {},
   "outputs": [],
   "source": [
    "#Vectorization\n",
    "dim = 10"
   ]
  },
  {
   "cell_type": "code",
   "execution_count": 70,
   "id": "73ecf2cb",
   "metadata": {},
   "outputs": [],
   "source": [
    "A = np.random.rand(dim, dim)\n",
    "B = np.random.rand(dim, dim)"
   ]
  },
  {
   "cell_type": "code",
   "execution_count": 73,
   "id": "dee63567",
   "metadata": {},
   "outputs": [
    {
     "data": {
      "text/plain": [
       "(10, 10)"
      ]
     },
     "execution_count": 73,
     "metadata": {},
     "output_type": "execute_result"
    }
   ],
   "source": [
    "A[0].size, A[1].size"
   ]
  },
  {
   "cell_type": "code",
   "execution_count": 75,
   "id": "7d69a613",
   "metadata": {},
   "outputs": [
    {
     "data": {
      "text/plain": [
       "(10, 10)"
      ]
     },
     "execution_count": 75,
     "metadata": {},
     "output_type": "execute_result"
    }
   ],
   "source": [
    "B[0].size, B[1].size"
   ]
  },
  {
   "cell_type": "code",
   "execution_count": 84,
   "id": "5cefcba5",
   "metadata": {},
   "outputs": [],
   "source": [
    "def add_array(A, B):\n",
    "    C = np.zeros((A[0].size, A[1].size))\n",
    "    \n",
    "    for i in range(A[0].size):\n",
    "        for j in range(A[1].size):\n",
    "            C[i, j] = A[i, j] + B[i, j]\n",
    "    return C"
   ]
  },
  {
   "cell_type": "code",
   "execution_count": 88,
   "id": "38738412",
   "metadata": {},
   "outputs": [
    {
     "name": "stdout",
     "output_type": "stream",
     "text": [
      "Wall time: 0 ns\n"
     ]
    }
   ],
   "source": [
    "%time C = add_array(A, B)\n"
   ]
  },
  {
   "cell_type": "code",
   "execution_count": 89,
   "id": "9d69315d",
   "metadata": {},
   "outputs": [
    {
     "name": "stdout",
     "output_type": "stream",
     "text": [
      "Wall time: 0 ns\n"
     ]
    }
   ],
   "source": [
    "%time C = A + B"
   ]
  },
  {
   "cell_type": "code",
   "execution_count": null,
   "id": "b5f0e8e8",
   "metadata": {},
   "outputs": [],
   "source": []
  }
 ],
 "metadata": {
  "kernelspec": {
   "display_name": "Python 3",
   "language": "python",
   "name": "python3"
  },
  "language_info": {
   "codemirror_mode": {
    "name": "ipython",
    "version": 3
   },
   "file_extension": ".py",
   "mimetype": "text/x-python",
   "name": "python",
   "nbconvert_exporter": "python",
   "pygments_lexer": "ipython3",
   "version": "3.8.8"
  }
 },
 "nbformat": 4,
 "nbformat_minor": 5
}
