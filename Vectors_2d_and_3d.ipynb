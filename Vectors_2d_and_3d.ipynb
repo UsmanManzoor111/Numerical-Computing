{
 "cells": [
  {
   "cell_type": "code",
   "execution_count": 29,
   "id": "66c2b6c9",
   "metadata": {},
   "outputs": [
    {
     "name": "stdout",
     "output_type": "stream",
     "text": [
      "Vector having 2 elements OUPUT : \n",
      "( 9  ,  12  ) \n",
      "( -7  ,  2  ) \n",
      "( 8  ,  35  ) \n"
     ]
    }
   ],
   "source": [
    "# Part (3)\n",
    "class Vector:\n",
    "    def __init__(self, i = 0, j = 0):\n",
    "        self.i = i\n",
    "        self.j = j\n",
    "    \n",
    "    def _add_(self, vector):\n",
    "        res = Vector()\n",
    "        res.i = self.i + vector.i\n",
    "        res.j = self.j + vector.j  \n",
    "        return res\n",
    "        \n",
    "    def _sub_(self, vector):\n",
    "        res = Vector()\n",
    "        res.i = self.i - vector.i\n",
    "        res.j = self.j - vector.j  \n",
    "        return res\n",
    "    \n",
    "    def _mul_(self, vector):\n",
    "        res = Vector()\n",
    "        res.i = self.i * vector.i\n",
    "        res.j = self.j * vector.j  \n",
    "        return res\n",
    "\n",
    "v1 = Vector(8, 5)\n",
    "v2 = Vector(1, 7)\n",
    "\n",
    "print(\"Vector having 2 elements OUPUT : \")\n",
    "res = v2._add_(v1) \n",
    "print(\"(\", res.i, \" , \", res.j, \" ) \")\n",
    "\n",
    "res = v2._sub_(v1) \n",
    "print(\"(\", res.i, \" , \", res.j, \" ) \")\n",
    "\n",
    "res = v2._mul_(v1) \n",
    "print(\"(\", res.i, \" , \", res.j, \" ) \")"
   ]
  },
  {
   "cell_type": "code",
   "execution_count": 28,
   "id": "8f7a62cb",
   "metadata": {},
   "outputs": [
    {
     "name": "stdout",
     "output_type": "stream",
     "text": [
      "Vector having three elements OUPUT : \n",
      "( 9  ,  7  ,  3  ) \n",
      "( -7  ,  -3  ,  1  ) \n",
      "( 8  ,  10  ,  2  ) \n"
     ]
    }
   ],
   "source": [
    "# Part (6)\n",
    "class Vector3:\n",
    "    def __init__(self, i = 0, j = 0, k = 0):\n",
    "        self.i = i\n",
    "        self.j = j\n",
    "        self.k = k\n",
    "    \n",
    "    def _add_(self, vector):\n",
    "        res = Vector3()\n",
    "        res.i = self.i + vector.i\n",
    "        res.j = self.j + vector.j\n",
    "        res.k = self.k + vector.k\n",
    "        return res\n",
    "        \n",
    "    def _sub_(self, vector):\n",
    "        res = Vector3()\n",
    "        res.i = self.i - vector.i\n",
    "        res.j = self.j - vector.j\n",
    "        res.k = self.k - vector.k\n",
    "        return res\n",
    "    \n",
    "    def _mul_(self, vector):\n",
    "        res = Vector3()\n",
    "        res.i = self.i * vector.i\n",
    "        res.j = self.j * vector.j\n",
    "        res.k = self.k * vector.k\n",
    "        return res\n",
    "\n",
    "v3 = Vector3(8, 5, 1)\n",
    "v4 = Vector3(1, 2, 2)\n",
    "\n",
    "print(\"Vector having three elements OUPUT : \")\n",
    "res = v4._add_(v3) \n",
    "print(\"(\", res.i, \" , \", res.j, \" , \", res.k ,\" ) \")\n",
    "\n",
    "res = v4._sub_(v3) \n",
    "print(\"(\", res.i, \" , \", res.j, \" , \", res.k ,\" ) \")\n",
    "\n",
    "res = v4._mul_(v3) \n",
    "print(\"(\", res.i, \" , \", res.j, \" , \", res.k ,\" ) \")"
   ]
  },
  {
   "cell_type": "code",
   "execution_count": 39,
   "id": "3decc3da",
   "metadata": {},
   "outputs": [
    {
     "name": "stdout",
     "output_type": "stream",
     "text": [
      "n value : 3\n"
     ]
    },
    {
     "ename": "TypeError",
     "evalue": "raw_input() takes from 1 to 2 positional arguments but 4 were given",
     "output_type": "error",
     "traceback": [
      "\u001b[1;31m---------------------------------------------------------------------------\u001b[0m",
      "\u001b[1;31mTypeError\u001b[0m                                 Traceback (most recent call last)",
      "\u001b[1;32m<ipython-input-39-85153f7ad8fa>\u001b[0m in \u001b[0;36m<module>\u001b[1;34m\u001b[0m\n\u001b[0;32m      3\u001b[0m \u001b[0ma\u001b[0m \u001b[1;33m=\u001b[0m \u001b[1;33m[\u001b[0m\u001b[1;33m]\u001b[0m\u001b[1;33m\u001b[0m\u001b[1;33m\u001b[0m\u001b[0m\n\u001b[0;32m      4\u001b[0m \u001b[1;32mfor\u001b[0m \u001b[0mi\u001b[0m \u001b[1;32min\u001b[0m \u001b[0mrange\u001b[0m\u001b[1;33m(\u001b[0m\u001b[1;36m1\u001b[0m\u001b[1;33m,\u001b[0m \u001b[0mn\u001b[0m \u001b[1;33m+\u001b[0m \u001b[1;36m1\u001b[0m\u001b[1;33m)\u001b[0m\u001b[1;33m:\u001b[0m\u001b[1;33m\u001b[0m\u001b[1;33m\u001b[0m\u001b[0m\n\u001b[1;32m----> 5\u001b[1;33m     \u001b[0ma\u001b[0m\u001b[1;33m.\u001b[0m\u001b[0mappend\u001b[0m\u001b[1;33m(\u001b[0m\u001b[0mint\u001b[0m\u001b[1;33m(\u001b[0m\u001b[0minput\u001b[0m\u001b[1;33m(\u001b[0m\u001b[1;34m\"Enter value \"\u001b[0m\u001b[1;33m,\u001b[0m \u001b[0mi\u001b[0m\u001b[1;33m,\u001b[0m \u001b[1;34m\" of a : \"\u001b[0m\u001b[1;33m)\u001b[0m\u001b[1;33m)\u001b[0m\u001b[1;33m)\u001b[0m\u001b[1;33m\u001b[0m\u001b[1;33m\u001b[0m\u001b[0m\n\u001b[0m\u001b[0;32m      6\u001b[0m \u001b[1;33m\u001b[0m\u001b[0m\n\u001b[0;32m      7\u001b[0m \u001b[0mb\u001b[0m \u001b[1;33m=\u001b[0m \u001b[1;33m[\u001b[0m\u001b[1;33m]\u001b[0m\u001b[1;33m\u001b[0m\u001b[1;33m\u001b[0m\u001b[0m\n",
      "\u001b[1;31mTypeError\u001b[0m: raw_input() takes from 1 to 2 positional arguments but 4 were given"
     ]
    }
   ],
   "source": [
    "n = int(input(\"n value : \"))\n",
    "\n",
    "a = []\n",
    "for i in range(1, n + 1):\n",
    "    a.append(int(input(\"Enter value \", i, \" of a : \")))\n",
    "\n",
    "b = []\n",
    "for i in range(1, n + 1): \n",
    "    b.append(int(input(\"Enter value \", i, \" of b : \")))\n",
    "\n",
    "c = []\n",
    "for i in range(1, n + 1):\n",
    "    c.append(a(i) * b(i))     \n",
    "\n",
    "dot_product = sum(c)\n",
    "print(\"a . b : \", dot_product)"
   ]
  },
  {
   "cell_type": "code",
   "execution_count": null,
   "id": "a58b3c84",
   "metadata": {},
   "outputs": [],
   "source": []
  }
 ],
 "metadata": {
  "kernelspec": {
   "display_name": "Python 3",
   "language": "python",
   "name": "python3"
  },
  "language_info": {
   "codemirror_mode": {
    "name": "ipython",
    "version": 3
   },
   "file_extension": ".py",
   "mimetype": "text/x-python",
   "name": "python",
   "nbconvert_exporter": "python",
   "pygments_lexer": "ipython3",
   "version": "3.8.8"
  }
 },
 "nbformat": 4,
 "nbformat_minor": 5
}
