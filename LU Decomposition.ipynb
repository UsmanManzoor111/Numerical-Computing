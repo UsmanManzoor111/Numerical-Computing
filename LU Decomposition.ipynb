{
 "cells": [
  {
   "cell_type": "code",
   "execution_count": 3,
   "id": "68d56009",
   "metadata": {},
   "outputs": [],
   "source": [
    "import numpy as np\n",
    "from numpy.linalg import inv\n",
    "\n",
    "import scipy\n",
    "from scipy.linalg import lu"
   ]
  },
  {
   "cell_type": "code",
   "execution_count": 4,
   "id": "033d6039",
   "metadata": {},
   "outputs": [],
   "source": [
    "#help(lu)\n"
   ]
  },
  {
   "cell_type": "code",
   "execution_count": 52,
   "id": "7157a37b",
   "metadata": {},
   "outputs": [],
   "source": [
    "A = np.array([\n",
    "            [1, 1, 1, 1],\n",
    "            [2, 3, 1, 5],\n",
    "            [-1, 1, -5, 3],\n",
    "            [3, 1, 7, -2]\n",
    "            ], dtype = float)"
   ]
  },
  {
   "cell_type": "code",
   "execution_count": 53,
   "id": "a189eaae",
   "metadata": {},
   "outputs": [
    {
     "name": "stdout",
     "output_type": "stream",
     "text": [
      "A:\n",
      "[[ 1.  1.  1.  1.]\n",
      " [ 2.  3.  1.  5.]\n",
      " [-1.  1. -5.  3.]\n",
      " [ 3.  1.  7. -2.]]\n",
      "P:\n",
      "[[0. 0. 0. 1.]\n",
      " [0. 1. 0. 0.]\n",
      " [0. 0. 1. 0.]\n",
      " [1. 0. 0. 0.]]\n",
      "L:\n",
      "[[ 1.          0.          0.          0.        ]\n",
      " [ 0.66666667  1.          0.          0.        ]\n",
      " [-0.33333333  0.57142857  1.          0.        ]\n",
      " [ 0.33333333  0.28571429  0.5         1.        ]]\n",
      "U:\n",
      "[[ 3.          1.          7.         -2.        ]\n",
      " [ 0.          2.33333333 -3.66666667  6.33333333]\n",
      " [ 0.          0.         -0.57142857 -1.28571429]\n",
      " [ 0.          0.          0.          0.5       ]]\n"
     ]
    }
   ],
   "source": [
    "P, L, U = lu(A)\n",
    "\n",
    "print(\"A:\")\n",
    "print(A)\n",
    "\n",
    "print(\"P:\")\n",
    "print(P)\n",
    "\n",
    "print(\"L:\")\n",
    "print(L)\n",
    "\n",
    "print(\"U:\")\n",
    "print(U)\n"
   ]
  },
  {
   "cell_type": "code",
   "execution_count": 54,
   "id": "9e2ae1d2",
   "metadata": {},
   "outputs": [],
   "source": [
    "L = P.dot(L)"
   ]
  },
  {
   "cell_type": "code",
   "execution_count": 55,
   "id": "1f448a36",
   "metadata": {},
   "outputs": [
    {
     "data": {
      "text/plain": [
       "array([[ 1.,  1.,  1.,  1.],\n",
       "       [ 2.,  3.,  1.,  5.],\n",
       "       [-1.,  1., -5.,  3.],\n",
       "       [ 3.,  1.,  7., -2.]])"
      ]
     },
     "execution_count": 55,
     "metadata": {},
     "output_type": "execute_result"
    }
   ],
   "source": [
    "L.dot(U)"
   ]
  },
  {
   "cell_type": "code",
   "execution_count": 56,
   "id": "04064c7d",
   "metadata": {},
   "outputs": [
    {
     "data": {
      "text/plain": [
       "array([[ 1.,  1.,  1.,  1.],\n",
       "       [ 2.,  3.,  1.,  5.],\n",
       "       [-1.,  1., -5.,  3.],\n",
       "       [ 3.,  1.,  7., -2.]])"
      ]
     },
     "execution_count": 56,
     "metadata": {},
     "output_type": "execute_result"
    }
   ],
   "source": [
    "A"
   ]
  },
  {
   "cell_type": "code",
   "execution_count": 57,
   "id": "0e7d7512",
   "metadata": {},
   "outputs": [
    {
     "data": {
      "text/plain": [
       "array([[ True, False, False, False],\n",
       "       [ True,  True, False,  True],\n",
       "       [ True,  True,  True,  True],\n",
       "       [ True,  True,  True,  True]])"
      ]
     },
     "execution_count": 57,
     "metadata": {},
     "output_type": "execute_result"
    }
   ],
   "source": [
    "L.dot(U) == A"
   ]
  },
  {
   "cell_type": "code",
   "execution_count": 58,
   "id": "f8cbc6dc",
   "metadata": {},
   "outputs": [
    {
     "data": {
      "text/plain": [
       "True"
      ]
     },
     "execution_count": 58,
     "metadata": {},
     "output_type": "execute_result"
    }
   ],
   "source": [
    "np.allclose(L.dot(U), A)"
   ]
  },
  {
   "cell_type": "code",
   "execution_count": 59,
   "id": "74a6edff",
   "metadata": {},
   "outputs": [
    {
     "data": {
      "text/plain": [
       "array([10, 31, -2, 18])"
      ]
     },
     "execution_count": 59,
     "metadata": {},
     "output_type": "execute_result"
    }
   ],
   "source": [
    "y = np.array([10, 31, -2, 18])\n",
    "y"
   ]
  },
  {
   "cell_type": "markdown",
   "id": "d0c3538a",
   "metadata": {},
   "source": [
    "Lm = y\n",
    "\n",
    "let's move L to the other side of the question.\n",
    "\n",
    "L-1 Lm = L-1y\n",
    "\n",
    "and cancel out...\n",
    "\n",
    "m = L-1y"
   ]
  },
  {
   "cell_type": "code",
   "execution_count": 60,
   "id": "12076899",
   "metadata": {},
   "outputs": [
    {
     "data": {
      "text/plain": [
       "array([18.        , 19.        , -6.85714286,  2.        ])"
      ]
     },
     "execution_count": 60,
     "metadata": {},
     "output_type": "execute_result"
    }
   ],
   "source": [
    "m = inv(L).dot(y)\n",
    "m"
   ]
  },
  {
   "cell_type": "code",
   "execution_count": 61,
   "id": "37800298",
   "metadata": {},
   "outputs": [
    {
     "data": {
      "text/plain": [
       "array([1., 2., 3., 4.])"
      ]
     },
     "execution_count": 61,
     "metadata": {},
     "output_type": "execute_result"
    }
   ],
   "source": [
    "x = inv(U).dot(m)\n",
    "x"
   ]
  },
  {
   "cell_type": "code",
   "execution_count": 62,
   "id": "28a38987",
   "metadata": {},
   "outputs": [
    {
     "name": "stdout",
     "output_type": "stream",
     "text": [
      "[10. 31. -2. 18.]\n"
     ]
    }
   ],
   "source": [
    "yp = A.dot(x)\n",
    "print(yp)"
   ]
  },
  {
   "cell_type": "code",
   "execution_count": 63,
   "id": "c3095ed4",
   "metadata": {},
   "outputs": [
    {
     "data": {
      "text/plain": [
       "True"
      ]
     },
     "execution_count": 63,
     "metadata": {},
     "output_type": "execute_result"
    }
   ],
   "source": [
    "np.allclose(y, yp)"
   ]
  }
 ],
 "metadata": {
  "kernelspec": {
   "display_name": "Python 3",
   "language": "python",
   "name": "python3"
  },
  "language_info": {
   "codemirror_mode": {
    "name": "ipython",
    "version": 3
   },
   "file_extension": ".py",
   "mimetype": "text/x-python",
   "name": "python",
   "nbconvert_exporter": "python",
   "pygments_lexer": "ipython3",
   "version": "3.8.8"
  }
 },
 "nbformat": 4,
 "nbformat_minor": 5
}
