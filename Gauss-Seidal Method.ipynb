{
 "cells": [
  {
   "cell_type": "code",
   "execution_count": 20,
   "id": "ab8e883b",
   "metadata": {},
   "outputs": [
    {
     "name": "stdout",
     "output_type": "stream",
     "text": [
      "[ 8  8 10]\n"
     ]
    }
   ],
   "source": [
    "import numpy as np\n",
    "a = [\n",
    "        [8, 3, -3],\n",
    "        [-2, -8, 5],\n",
    "        [3, 5, 10]\n",
    "]\n",
    "\n",
    "diag = np.diag(np.abs(a))\n",
    "print(diag)"
   ]
  },
  {
   "cell_type": "code",
   "execution_count": 21,
   "id": "90dcf135",
   "metadata": {},
   "outputs": [
    {
     "data": {
      "text/plain": [
       "array([14, 15, 18])"
      ]
     },
     "execution_count": 21,
     "metadata": {},
     "output_type": "execute_result"
    }
   ],
   "source": [
    "np.sum(np.abs(a), axis = 1)"
   ]
  },
  {
   "cell_type": "code",
   "execution_count": 22,
   "id": "61388706",
   "metadata": {},
   "outputs": [
    {
     "name": "stdout",
     "output_type": "stream",
     "text": [
      "[6 7 8]\n"
     ]
    }
   ],
   "source": [
    "offDiag = np.sum(np.abs(a), axis = 1) - diag\n",
    "print(offDiag)"
   ]
  },
  {
   "cell_type": "code",
   "execution_count": 23,
   "id": "3c9b752d",
   "metadata": {},
   "outputs": [
    {
     "name": "stdout",
     "output_type": "stream",
     "text": [
      "Matrix is diagnolly dominant\n"
     ]
    }
   ],
   "source": [
    "if np.all(diag > offDiag):\n",
    "    print(\"Matrix is diagnolly dominant\")\n",
    "else:\n",
    "    print(\"Not diagnolly dominant\")\n",
    "    "
   ]
  },
  {
   "cell_type": "code",
   "execution_count": 24,
   "id": "09f4cd7a",
   "metadata": {},
   "outputs": [],
   "source": [
    "x1 = 0\n",
    "x2 = 0\n",
    "x3 = 0\n",
    "\n",
    "epsilon = 0.001\n",
    "converged = False\n",
    "\n",
    "xOld = np.array([x1, x2, x3])"
   ]
  },
  {
   "cell_type": "code",
   "execution_count": 25,
   "id": "1ba10b82",
   "metadata": {},
   "outputs": [],
   "source": [
    "maxIteration = 50"
   ]
  },
  {
   "cell_type": "code",
   "execution_count": 26,
   "id": "16b9eac7",
   "metadata": {},
   "outputs": [
    {
     "name": "stdout",
     "output_type": "stream",
     "text": [
      "Iteration reslults \n",
      "k\tx1\tx2\tx3\n",
      " 1  1.7500  -1.0625  -0.7937\n",
      " 2  1.8508  -1.5838  -0.5633\n",
      " 3  2.1327  -1.5103  -0.6847\n",
      " 4  2.0596  -1.5678  -0.6340\n",
      " 5  2.1002  -1.5463  -0.6569\n",
      " 6  2.0835  -1.5565  -0.6468\n",
      " 7  2.0911  -1.5520  -0.6513\n",
      " 8  2.0878  -1.5540  -0.6493\n",
      " 9  2.0893  -1.5531  -0.6502\n",
      "10  2.0886  -1.5535  -0.6498\n",
      "11  2.0889  -1.5534  -0.6500\n",
      "12  2.0888  -1.5534  -0.6499\n",
      "13  2.0888  -1.5534  -0.6499\n",
      "14  2.0888  -1.5534  -0.6499\n",
      "15  2.0888  -1.5534  -0.6499\n",
      "16  2.0888  -1.5534  -0.6499\n",
      "17  2.0888  -1.5534  -0.6499\n",
      "18  2.0888  -1.5534  -0.6499\n",
      "19  2.0888  -1.5534  -0.6499\n",
      "20  2.0888  -1.5534  -0.6499\n",
      "21  2.0888  -1.5534  -0.6499\n",
      "22  2.0888  -1.5534  -0.6499\n",
      "23  2.0888  -1.5534  -0.6499\n",
      "24  2.0888  -1.5534  -0.6499\n",
      "25  2.0888  -1.5534  -0.6499\n",
      "26  2.0888  -1.5534  -0.6499\n",
      "27  2.0888  -1.5534  -0.6499\n",
      "28  2.0888  -1.5534  -0.6499\n",
      "29  2.0888  -1.5534  -0.6499\n",
      "30  2.0888  -1.5534  -0.6499\n",
      "31  2.0888  -1.5534  -0.6499\n",
      "32  2.0888  -1.5534  -0.6499\n",
      "33  2.0888  -1.5534  -0.6499\n",
      "34  2.0888  -1.5534  -0.6499\n",
      "35  2.0888  -1.5534  -0.6499\n",
      "36  2.0888  -1.5534  -0.6499\n",
      "37  2.0888  -1.5534  -0.6499\n",
      "38  2.0888  -1.5534  -0.6499\n",
      "39  2.0888  -1.5534  -0.6499\n",
      "40  2.0888  -1.5534  -0.6499\n",
      "41  2.0888  -1.5534  -0.6499\n",
      "42  2.0888  -1.5534  -0.6499\n",
      "43  2.0888  -1.5534  -0.6499\n",
      "44  2.0888  -1.5534  -0.6499\n",
      "45  2.0888  -1.5534  -0.6499\n",
      "46  2.0888  -1.5534  -0.6499\n",
      "47  2.0888  -1.5534  -0.6499\n",
      "48  2.0888  -1.5534  -0.6499\n",
      "49  2.0888  -1.5534  -0.6499\n",
      "not converged increase the # of iterations\n"
     ]
    }
   ],
   "source": [
    "print(\"Iteration reslults \")\n",
    "print(\"k\\tx1\\tx2\\tx3\")\n",
    "\n",
    "for k in range(1, maxIteration):\n",
    "    x1 = (14 - 3*x2 + 3*x3)/8\n",
    "    x2 = (5 + 2*x1 - 5*x3)/-8\n",
    "    x3 = (-8 - 3*x1 - 5*x2)/10\n",
    "    \n",
    "    x = np.array([x1, x2, x3])\n",
    "    print(\"%2d  %.4f  %.4f  %.4f\" % (k, x1, x2, x3))\n",
    "    \n",
    "    dx = np.sqrt(np.dot(x-xOld, x-xOld))\n",
    "    \n",
    "    if dx < epsilon:\n",
    "        converged = True\n",
    "        print(\"Converged!\")\n",
    "        break\n",
    "    \n",
    "    x_old = x\n",
    "    \n",
    "if not converged:\n",
    "    print(\"not converged increase the # of iterations\")"
   ]
  },
  {
   "cell_type": "code",
   "execution_count": 28,
   "id": "ef1f1d4e",
   "metadata": {},
   "outputs": [
    {
     "data": {
      "text/plain": [
       "14.000000000000002"
      ]
     },
     "execution_count": 28,
     "metadata": {},
     "output_type": "execute_result"
    }
   ],
   "source": [
    "8*x1 + 3*x2 -3*x3\n"
   ]
  },
  {
   "cell_type": "code",
   "execution_count": 29,
   "id": "72b0317b",
   "metadata": {},
   "outputs": [
    {
     "data": {
      "text/plain": [
       "5.0"
      ]
     },
     "execution_count": 29,
     "metadata": {},
     "output_type": "execute_result"
    }
   ],
   "source": [
    "-2*x1 -8*x2 +5*x3"
   ]
  },
  {
   "cell_type": "code",
   "execution_count": 30,
   "id": "2bc785f1",
   "metadata": {},
   "outputs": [
    {
     "data": {
      "text/plain": [
       "-7.999999999999999"
      ]
     },
     "execution_count": 30,
     "metadata": {},
     "output_type": "execute_result"
    }
   ],
   "source": [
    "3*x1 +5*x2 +10*x3"
   ]
  },
  {
   "cell_type": "code",
   "execution_count": null,
   "id": "1fc4c924",
   "metadata": {},
   "outputs": [],
   "source": []
  }
 ],
 "metadata": {
  "kernelspec": {
   "display_name": "Python 3",
   "language": "python",
   "name": "python3"
  },
  "language_info": {
   "codemirror_mode": {
    "name": "ipython",
    "version": 3
   },
   "file_extension": ".py",
   "mimetype": "text/x-python",
   "name": "python",
   "nbconvert_exporter": "python",
   "pygments_lexer": "ipython3",
   "version": "3.8.8"
  }
 },
 "nbformat": 4,
 "nbformat_minor": 5
}
